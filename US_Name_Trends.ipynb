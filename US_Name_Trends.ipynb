{
 "cells": [
  {
   "cell_type": "code",
   "execution_count": 1,
   "metadata": {},
   "outputs": [],
   "source": [
    "# Importing Requierd Libraries\n",
    "import pandas as pd\n",
    "import numpy as np\n",
    "import seaborn as sns\n",
    "from glob import glob # To get name of files in a folder\n",
    "import matplotlib.pyplot as plt\n",
    "import matplotlib.patches as mpatches"
   ]
  },
  {
   "cell_type": "markdown",
   "metadata": {},
   "source": [
    "This public dataset was created by the Social Security Administration and contains all names from Social Security card applications for births that occurred in the United States after 1879. "
   ]
  },
  {
   "cell_type": "markdown",
   "metadata": {},
   "source": [
    "## Importing Dataset"
   ]
  },
  {
   "cell_type": "code",
   "execution_count": 2,
   "metadata": {},
   "outputs": [],
   "source": [
    "files = glob('names/yob*')"
   ]
  },
  {
   "cell_type": "code",
   "execution_count": 3,
   "metadata": {},
   "outputs": [
    {
     "name": "stdout",
     "output_type": "stream",
     "text": [
      "First Year:  1880\n",
      "Last Year:  2018\n"
     ]
    }
   ],
   "source": [
    "# finding out the last and the first year of the dataset\n",
    "fyear = files[0][-8:-4]\n",
    "lyear = files[-1][-8:-4]\n",
    "print('First Year: ', fyear)\n",
    "print('Last Year: ', lyear)"
   ]
  },
  {
   "cell_type": "markdown",
   "metadata": {},
   "source": [
    "## Sample Dataset for Year 1880"
   ]
  },
  {
   "cell_type": "code",
   "execution_count": 4,
   "metadata": {},
   "outputs": [
    {
     "data": {
      "text/html": [
       "<div>\n",
       "<style scoped>\n",
       "    .dataframe tbody tr th:only-of-type {\n",
       "        vertical-align: middle;\n",
       "    }\n",
       "\n",
       "    .dataframe tbody tr th {\n",
       "        vertical-align: top;\n",
       "    }\n",
       "\n",
       "    .dataframe thead th {\n",
       "        text-align: right;\n",
       "    }\n",
       "</style>\n",
       "<table border=\"1\" class=\"dataframe\">\n",
       "  <thead>\n",
       "    <tr style=\"text-align: right;\">\n",
       "      <th></th>\n",
       "      <th>Names</th>\n",
       "      <th>Gender</th>\n",
       "      <th>Count</th>\n",
       "    </tr>\n",
       "  </thead>\n",
       "  <tbody>\n",
       "    <tr>\n",
       "      <th>0</th>\n",
       "      <td>Mary</td>\n",
       "      <td>F</td>\n",
       "      <td>7065</td>\n",
       "    </tr>\n",
       "    <tr>\n",
       "      <th>1</th>\n",
       "      <td>Anna</td>\n",
       "      <td>F</td>\n",
       "      <td>2604</td>\n",
       "    </tr>\n",
       "    <tr>\n",
       "      <th>2</th>\n",
       "      <td>Emma</td>\n",
       "      <td>F</td>\n",
       "      <td>2003</td>\n",
       "    </tr>\n",
       "    <tr>\n",
       "      <th>3</th>\n",
       "      <td>Elizabeth</td>\n",
       "      <td>F</td>\n",
       "      <td>1939</td>\n",
       "    </tr>\n",
       "    <tr>\n",
       "      <th>4</th>\n",
       "      <td>Minnie</td>\n",
       "      <td>F</td>\n",
       "      <td>1746</td>\n",
       "    </tr>\n",
       "  </tbody>\n",
       "</table>\n",
       "</div>"
      ],
      "text/plain": [
       "       Names Gender  Count\n",
       "0       Mary      F   7065\n",
       "1       Anna      F   2604\n",
       "2       Emma      F   2003\n",
       "3  Elizabeth      F   1939\n",
       "4     Minnie      F   1746"
      ]
     },
     "execution_count": 4,
     "metadata": {},
     "output_type": "execute_result"
    }
   ],
   "source": [
    "df = pd.read_csv(files[0], delimiter=',' , names = ['Names','Gender', 'Count'])\n",
    "df.head()"
   ]
  },
  {
   "cell_type": "markdown",
   "metadata": {},
   "source": [
    "# Total Population Trend\n",
    "From this dataset we can calculate total births every year and visualize the population trend"
   ]
  },
  {
   "cell_type": "code",
   "execution_count": 5,
   "metadata": {},
   "outputs": [
    {
     "data": {
      "text/html": [
       "<div>\n",
       "<style scoped>\n",
       "    .dataframe tbody tr th:only-of-type {\n",
       "        vertical-align: middle;\n",
       "    }\n",
       "\n",
       "    .dataframe tbody tr th {\n",
       "        vertical-align: top;\n",
       "    }\n",
       "\n",
       "    .dataframe thead th {\n",
       "        text-align: right;\n",
       "    }\n",
       "</style>\n",
       "<table border=\"1\" class=\"dataframe\">\n",
       "  <thead>\n",
       "    <tr style=\"text-align: right;\">\n",
       "      <th></th>\n",
       "      <th>Year</th>\n",
       "      <th>Population</th>\n",
       "    </tr>\n",
       "  </thead>\n",
       "  <tbody>\n",
       "  </tbody>\n",
       "</table>\n",
       "</div>"
      ],
      "text/plain": [
       "Empty DataFrame\n",
       "Columns: [Year, Population]\n",
       "Index: []"
      ]
     },
     "execution_count": 5,
     "metadata": {},
     "output_type": "execute_result"
    }
   ],
   "source": [
    "# creating a new customized dataframe \n",
    "total_pop = pd.DataFrame(columns=['Year','Population'])\n",
    "total_pop"
   ]
  },
  {
   "cell_type": "code",
   "execution_count": 6,
   "metadata": {},
   "outputs": [],
   "source": [
    "for year in range(int(fyear), int(lyear) + 1):\n",
    "    # updating a dataframe with the columns name \n",
    "    temp_df = pd.read_csv(files[year - int(fyear)], delimiter=',' , names = ['Names','Gender', 'Count'])\n",
    "    # updating our customized dataframe as per our need \n",
    "    total_pop_new = pd.DataFrame({'Year' : [year], 'Population' : [temp_df['Count'].sum()]})\n",
    "    total_pop = pd.concat([total_pop, total_pop_new])"
   ]
  },
  {
   "cell_type": "code",
   "execution_count": 7,
   "metadata": {},
   "outputs": [
    {
     "data": {
      "text/html": [
       "<div>\n",
       "<style scoped>\n",
       "    .dataframe tbody tr th:only-of-type {\n",
       "        vertical-align: middle;\n",
       "    }\n",
       "\n",
       "    .dataframe tbody tr th {\n",
       "        vertical-align: top;\n",
       "    }\n",
       "\n",
       "    .dataframe thead th {\n",
       "        text-align: right;\n",
       "    }\n",
       "</style>\n",
       "<table border=\"1\" class=\"dataframe\">\n",
       "  <thead>\n",
       "    <tr style=\"text-align: right;\">\n",
       "      <th></th>\n",
       "      <th>Year</th>\n",
       "      <th>Population</th>\n",
       "    </tr>\n",
       "  </thead>\n",
       "  <tbody>\n",
       "    <tr>\n",
       "      <th>0</th>\n",
       "      <td>1880</td>\n",
       "      <td>201484</td>\n",
       "    </tr>\n",
       "    <tr>\n",
       "      <th>0</th>\n",
       "      <td>1881</td>\n",
       "      <td>192696</td>\n",
       "    </tr>\n",
       "    <tr>\n",
       "      <th>0</th>\n",
       "      <td>1882</td>\n",
       "      <td>221533</td>\n",
       "    </tr>\n",
       "    <tr>\n",
       "      <th>0</th>\n",
       "      <td>1883</td>\n",
       "      <td>216944</td>\n",
       "    </tr>\n",
       "    <tr>\n",
       "      <th>0</th>\n",
       "      <td>1884</td>\n",
       "      <td>243461</td>\n",
       "    </tr>\n",
       "    <tr>\n",
       "      <th>...</th>\n",
       "      <td>...</td>\n",
       "      <td>...</td>\n",
       "    </tr>\n",
       "    <tr>\n",
       "      <th>0</th>\n",
       "      <td>2014</td>\n",
       "      <td>3698914</td>\n",
       "    </tr>\n",
       "    <tr>\n",
       "      <th>0</th>\n",
       "      <td>2015</td>\n",
       "      <td>3691990</td>\n",
       "    </tr>\n",
       "    <tr>\n",
       "      <th>0</th>\n",
       "      <td>2016</td>\n",
       "      <td>3657797</td>\n",
       "    </tr>\n",
       "    <tr>\n",
       "      <th>0</th>\n",
       "      <td>2017</td>\n",
       "      <td>3561975</td>\n",
       "    </tr>\n",
       "    <tr>\n",
       "      <th>0</th>\n",
       "      <td>2018</td>\n",
       "      <td>3487353</td>\n",
       "    </tr>\n",
       "  </tbody>\n",
       "</table>\n",
       "<p>139 rows × 2 columns</p>\n",
       "</div>"
      ],
      "text/plain": [
       "    Year Population\n",
       "0   1880     201484\n",
       "0   1881     192696\n",
       "0   1882     221533\n",
       "0   1883     216944\n",
       "0   1884     243461\n",
       "..   ...        ...\n",
       "0   2014    3698914\n",
       "0   2015    3691990\n",
       "0   2016    3657797\n",
       "0   2017    3561975\n",
       "0   2018    3487353\n",
       "\n",
       "[139 rows x 2 columns]"
      ]
     },
     "execution_count": 7,
     "metadata": {},
     "output_type": "execute_result"
    }
   ],
   "source": [
    "total_pop"
   ]
  },
  {
   "cell_type": "code",
   "execution_count": 8,
   "metadata": {},
   "outputs": [
    {
     "data": {
      "text/plain": [
       "Text(0.5, 1.0, 'Total Population Trend')"
      ]
     },
     "execution_count": 8,
     "metadata": {},
     "output_type": "execute_result"
    },
    {
     "data": {
      "image/png": "[encoded data removed]",
      "text/plain": [
       "<Figure size 640x480 with 1 Axes>"
      ]
     },
     "metadata": {},
     "output_type": "display_data"
    }
   ],
   "source": [
    "#Plotting the Population Trend\n",
    "plt.plot(total_pop.Year, total_pop.Population, linewidth=2)\n",
    "plt.xlabel('Year', fontsize=15)\n",
    "plt.ylabel('Population', fontsize=15)\n",
    "plt.title('Total Population Trend', fontsize=15)"
   ]
  },
  {
   "cell_type": "markdown",
   "metadata": {},
   "source": [
    "# Gender Based Population Trend\n",
    "Now Suppose, we want to look at the trend of births based on Gender"
   ]
  },
  {
   "cell_type": "code",
   "execution_count": 9,
   "metadata": {},
   "outputs": [],
   "source": [
    "gender_pop = pd.DataFrame(columns=['Year','Population','Gender'])"
   ]
  },
  {
   "cell_type": "code",
   "execution_count": 10,
   "metadata": {},
   "outputs": [],
   "source": [
    "for year in range(int(fyear), int(lyear) + 1):\n",
    "    temp_df = pd.read_csv(files[year - int(fyear)], delimiter=',' , names = ['Names','Gender', 'Count'])\n",
    "    male = temp_df.groupby(['Gender']).sum('Count').loc['M'].values[0]\n",
    "    female = temp_df.groupby(['Gender']).sum('Count').loc['F'].values[0]\n",
    "    gender_pop_new = pd.DataFrame({'Year' : [year], 'Population' : female, 'Gender' : 'Female'})\n",
    "    gender_pop = pd.concat([gender_pop, gender_pop_new])\n",
    "    gender_pop_new = pd.DataFrame({'Year' : [year], 'Population' : male, 'Gender' : 'Male'})\n",
    "    gender_pop = pd.concat([gender_pop, gender_pop_new])\n",
    "gender_pop['Population']=gender_pop['Population'].astype('int')"
   ]
  },
  {
   "cell_type": "code",
   "execution_count": 11,
   "metadata": {},
   "outputs": [
    {
     "data": {
      "text/plain": [
       "Text(0.5, 1.0, 'Gender Based Population Trend')"
      ]
     },
     "execution_count": 11,
     "metadata": {},
     "output_type": "execute_result"
    },
    {
     "data": {
      "image/png": "[encoded data removed]",
      "text/plain": [
       "<Figure size 606x500 with 1 Axes>"
      ]
     },
     "metadata": {},
     "output_type": "display_data"
    }
   ],
   "source": [
    "#Plotting Using Seaborn\n",
    "\n",
    "sns.set_theme(style=\"darkgrid\")\n",
    "sns.relplot(x='Year',y='Population', hue = 'Gender', data=gender_pop, kind= 'line')\n",
    "plt.title('Gender Based Population Trend', fontsize=15)"
   ]
  },
  {
   "cell_type": "markdown",
   "metadata": {},
   "source": [
    "## Named based Population Trend"
   ]
  },
  {
   "cell_type": "code",
   "execution_count": null,
   "metadata": {},
   "outputs": [],
   "source": [
    "# Making DataFrame of the Names and Gender based year count\n",
    "make_dic = False\n",
    "\n",
    "if make_dic:\n",
    "    \n",
    "    names_df = pd.DataFrame(columns = ['Male','Female'])\n",
    "    for k,file in enumerate(files):\n",
    "        print(file, end='\\r')\n",
    "        temp_df = pd.read_csv(file, delimiter=',' , names = ['Names','Gender', 'Count'])\n",
    "        for i in range(len(temp_df)):\n",
    "            name = temp_df.loc[i,'Names']\n",
    "            if name not in names_df.index:\n",
    "                names_df.loc[name] = [np.zeros(len(files)), np.zeros(len(files))]\n",
    "\n",
    "            if temp_df.loc[i,'Gender'] == 'M':\n",
    "                temp_list = names_df.loc[name, 'Male']\n",
    "                temp_list[k] = temp_df.loc[i,'Count']\n",
    "               # names_df.loc[name, 'Male'] = temp_list\n",
    "\n",
    "            else:\n",
    "                temp_list = names_df.loc[name, 'Female']\n",
    "                temp_list[k] = temp_df.loc[i,'Count']\n",
    "                # names_df.loc[name, 'Female'] = temp_list\n",
    "                \n",
    "    # Saving to Dictionary\n",
    "    names_df.to_json('names_df.json')"
   ]
  },
  {
   "cell_type": "code",
   "execution_count": null,
   "metadata": {},
   "outputs": [],
   "source": [
    "names_df"
   ]
  },
  {
   "cell_type": "code",
   "execution_count": null,
   "metadata": {},
   "outputs": [],
   "source": [
    "# Loading Saved Dictionary\n",
    "testing_df = pd.read_json('names_df.json')\n",
    "testing_df.index.name = 'Names'\n",
    "testing_df.head()"
   ]
  },
  {
   "cell_type": "code",
   "execution_count": null,
   "metadata": {},
   "outputs": [],
   "source": [
    "def name_plot(name_arr,gender = None):\n",
    "    sns.set_theme(style='white')\n",
    "    if gender == None:\n",
    "        gender = 'Male'\n",
    "        for name in name_arr:\n",
    "            plt.plot(list(range(int(fyear), int(lyear) + 1)),testing_df.loc[name,gender],'-r',label = name + ' ' + gender, linewidth = 2)\n",
    "        gender = 'Female'\n",
    "        for name in name_arr:\n",
    "            plt.plot(list(range(int(fyear), int(lyear) + 1)),testing_df.loc[name,gender],'--b',label = name + ' ' + gender, linewidth = 2)\n",
    "    else:\n",
    "        for name in name_arr:\n",
    "            plt.plot(list(range(int(fyear), int(lyear) + 1)),testing_df.loc[name,gender],label = name)\n",
    "    plt.legend(loc='center left', bbox_to_anchor=(1, 0.5))\n",
    "    plt.title('Name Trend')\n",
    "    plt.xlabel('Year')\n",
    "    plt.ylabel('Baby Names')\n",
    "    return plt.show()"
   ]
  },
  {
   "cell_type": "code",
   "execution_count": null,
   "metadata": {},
   "outputs": [],
   "source": [
    "names = ['Jessie']\n",
    "name_plot(names)"
   ]
  },
  {
   "cell_type": "markdown",
   "metadata": {},
   "source": [
    "### Finding out if there is preference in last letter of names based on gender"
   ]
  },
  {
   "cell_type": "code",
   "execution_count": null,
   "metadata": {},
   "outputs": [],
   "source": [
    "alpha_df = pd.DataFrame(columns = ['Male', 'Female'])\n",
    "for i in range(ord('a'),ord('z')+1):\n",
    "    alpha_df.loc[chr(i)] = [0,0]"
   ]
  },
  {
   "cell_type": "code",
   "execution_count": null,
   "metadata": {},
   "outputs": [],
   "source": [
    "for name in testing_df.index:\n",
    "    alpha_df.loc[name[-1], 'Male'] = alpha_df.loc[name[-1], 'Male'] + np.sum(testing_df.loc[name, 'Male'])\n",
    "    alpha_df.loc[name[-1], 'Female'] = alpha_df.loc[name[-1], 'Female'] + np.sum(testing_df.loc[name, 'Female'])"
   ]
  },
  {
   "cell_type": "code",
   "execution_count": null,
   "metadata": {},
   "outputs": [],
   "source": [
    "alpha_df['Ratio'] = alpha_df['Female']/alpha_df['Male']\n",
    "\n",
    "alpha_df['Log_Ratio'] = alpha_df['Ratio'].map(lambda x: abs(np.log(x)))\n",
    "\n",
    "alpha_df['greater'] = alpha_df['Ratio'].map(lambda x: 'Female' if x >= 1 else 'Male')"
   ]
  },
  {
   "cell_type": "markdown",
   "metadata": {},
   "source": [
    "### Defining custom color pallete for graphs"
   ]
  },
  {
   "cell_type": "code",
   "execution_count": null,
   "metadata": {},
   "outputs": [],
   "source": [
    "def custom_pallete(series):\n",
    "    pal = []\n",
    "    \n",
    "    for i in series.values:\n",
    "        if i > 1:\n",
    "            pal.append('#FFBAE5')\n",
    "        elif i < 1:\n",
    "            pal.append('#99D8FC')\n",
    "        else:\n",
    "            pal.append('Yellow')\n",
    "            \n",
    "    return pal"
   ]
  },
  {
   "cell_type": "code",
   "execution_count": null,
   "metadata": {},
   "outputs": [],
   "source": [
    "sns.barplot(x = alpha_df.index, y = 'Log_Ratio', data = alpha_df, palette=custom_pallete(alpha_df['Ratio']))\n",
    "leg1 = mpatches.Patch(color='#FFBAE5', label='Female > Male')\n",
    "leg2 = mpatches.Patch(color='#99D8FC', label='Male > Female')\n",
    "plt.legend(handles=[leg1,leg2])\n",
    "plt.xlabel('End Letter')\n",
    "plt.title('Ratio of Female : Male in logscale')"
   ]
  },
  {
   "cell_type": "markdown",
   "metadata": {},
   "source": [
    "## Finding and Plotting Trends of the 5 most trending name in USA"
   ]
  },
  {
   "cell_type": "code",
   "execution_count": null,
   "metadata": {},
   "outputs": [],
   "source": [
    "def rate(arr):\n",
    "    last_arr = arr[-11:]\n",
    "    \n",
    "    total_trend = 0\n",
    "    for i in range(1, len(last_arr)):\n",
    "        trend = last_arr[i] - last_arr[i-1]\n",
    "        total_trend += trend\n",
    "        \n",
    "    total_trend = total_trend / (len(last_arr) - 1)\n",
    "    \n",
    "    return total_trend"
   ]
  },
  {
   "cell_type": "code",
   "execution_count": null,
   "metadata": {},
   "outputs": [],
   "source": [
    "testing_df['Rate_Male'] = testing_df['Male'].map(lambda x : rate(x))\n",
    "testing_df['Rate_Female'] = testing_df['Female'].map(lambda x : rate(x))\n",
    "male_trending = testing_df['Rate_Male'].sort_values(ascending = True)[:5].index\n",
    "female_trending = testing_df['Rate_Female'].sort_values(ascending = True)[:5].index"
   ]
  },
  {
   "cell_type": "markdown",
   "metadata": {},
   "source": [
    "### 5 most trending Male names"
   ]
  },
  {
   "cell_type": "code",
   "execution_count": null,
   "metadata": {},
   "outputs": [],
   "source": [
    "name_plot(male_trending,'Male')"
   ]
  },
  {
   "cell_type": "markdown",
   "metadata": {},
   "source": [
    "### 5 most trending Female names"
   ]
  },
  {
   "cell_type": "code",
   "execution_count": null,
   "metadata": {},
   "outputs": [],
   "source": [
    "name_plot(female_trending,'Female')"
   ]
  },
  {
   "cell_type": "markdown",
   "metadata": {},
   "source": [
    "## Finding Similar set of names from a keyword"
   ]
  },
  {
   "cell_type": "code",
   "execution_count": null,
   "metadata": {},
   "outputs": [],
   "source": [
    "def find_name(find_name, gender):\n",
    "    names = testing_df.index\n",
    "    found = []\n",
    "    for name in names:\n",
    "        if find_name.lower() in name.lower():\n",
    "            found.append(name)\n",
    "\n",
    "    found = testing_df.loc[found][gender].map(lambda x : np.sum(x)).sort_values(ascending = False)[:5].index\n",
    "    return found"
   ]
  },
  {
   "cell_type": "code",
   "execution_count": null,
   "metadata": {},
   "outputs": [],
   "source": [
    "male_found = find_name('John', 'Male')\n",
    "print(male_found)"
   ]
  },
  {
   "cell_type": "code",
   "execution_count": null,
   "metadata": {},
   "outputs": [],
   "source": [
    "female_found = find_name('Liz', 'Female')\n",
    "print(female_found)"
   ]
  },
  {
   "cell_type": "code",
   "execution_count": null,
   "metadata": {},
   "outputs": [],
   "source": [
    "name_plot(male_found, 'Male')"
   ]
  },
  {
   "cell_type": "code",
   "execution_count": null,
   "metadata": {},
   "outputs": [],
   "source": [
    "name_plot(female_found, 'Female')"
   ]
  },
  {
   "cell_type": "code",
   "execution_count": null,
   "metadata": {},
   "outputs": [],
   "source": []
  }
 ],
 "metadata": {
  "kernelspec": {
   "display_name": "base",
   "language": "python",
   "name": "python3"
  },
  "language_info": {
   "codemirror_mode": {
    "name": "ipython",
    "version": 3
   },
   "file_extension": ".py",
   "mimetype": "text/x-python",
   "name": "python",
   "nbconvert_exporter": "python",
   "pygments_lexer": "ipython3",
   "version": "3.10.9"
  },
  "orig_nbformat": 4
 },
 "nbformat": 4,
 "nbformat_minor": 2
}
